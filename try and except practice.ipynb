{
 "cells": [
  {
   "cell_type": "code",
   "execution_count": 1,
   "id": "529e0dc2",
   "metadata": {},
   "outputs": [
    {
     "name": "stdout",
     "output_type": "stream",
     "text": [
      "Enter a number:2\n",
      "Enter a number:5\n",
      "computed ration 0.4\n",
      "Enter a number:85\n",
      "Enter a number:41\n",
      "computed ration 2.073170731707317\n",
      "Enter a number:2\n",
      "Enter a number:4\n",
      "computed ration 0.5\n",
      "Enter a number:4\n",
      "Enter a number:2\n",
      "computed ration 2.0\n",
      "Enter a number:85845855\n",
      "Enter a number:5885565\n",
      "computed ration 14.585830757115078\n"
     ]
    }
   ],
   "source": [
    "for i in range(5):\n",
    "    try:\n",
    "        n = int(input(\"Enter a number:\"))\n",
    "        s = int(input(\"Enter a number:\"))\n",
    "        print(\"computed ration\",n/s)\n",
    "    except zeroDivisionError:\n",
    "        print(\"Denominator entered is zero,please try again\")\n",
    "    except ValueError:\n",
    "        print(\"One of the input is not a number,please try again\")"
   ]
  },
  {
   "cell_type": "code",
   "execution_count": null,
   "id": "a8578b55",
   "metadata": {},
   "outputs": [],
   "source": []
  },
  {
   "cell_type": "code",
   "execution_count": null,
   "id": "ce8c3b7b",
   "metadata": {},
   "outputs": [],
   "source": []
  },
  {
   "cell_type": "code",
   "execution_count": null,
   "id": "ba6b8915",
   "metadata": {},
   "outputs": [],
   "source": []
  },
  {
   "cell_type": "code",
   "execution_count": null,
   "id": "4de00729",
   "metadata": {},
   "outputs": [],
   "source": []
  }
 ],
 "metadata": {
  "kernelspec": {
   "display_name": "Python 3 (ipykernel)",
   "language": "python",
   "name": "python3"
  },
  "language_info": {
   "codemirror_mode": {
    "name": "ipython",
    "version": 3
   },
   "file_extension": ".py",
   "mimetype": "text/x-python",
   "name": "python",
   "nbconvert_exporter": "python",
   "pygments_lexer": "ipython3",
   "version": "3.9.7"
  }
 },
 "nbformat": 4,
 "nbformat_minor": 5
}
