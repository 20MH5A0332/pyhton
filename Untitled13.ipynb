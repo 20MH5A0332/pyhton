{
 "cells": [
  {
   "cell_type": "code",
   "execution_count": 1,
   "id": "945d0ad5",
   "metadata": {},
   "outputs": [],
   "source": [
    "import pandas as pd,seaborn as sns,matplotlib.pyplot as plt,numpy as np"
   ]
  },
  {
   "cell_type": "code",
   "execution_count": 3,
   "id": "484ba913",
   "metadata": {},
   "outputs": [
    {
     "data": {
      "text/html": [
       "<div>\n",
       "<style scoped>\n",
       "    .dataframe tbody tr th:only-of-type {\n",
       "        vertical-align: middle;\n",
       "    }\n",
       "\n",
       "    .dataframe tbody tr th {\n",
       "        vertical-align: top;\n",
       "    }\n",
       "\n",
       "    .dataframe thead th {\n",
       "        text-align: right;\n",
       "    }\n",
       "</style>\n",
       "<table border=\"1\" class=\"dataframe\">\n",
       "  <thead>\n",
       "    <tr style=\"text-align: right;\">\n",
       "      <th></th>\n",
       "      <th>survived</th>\n",
       "      <th>pclass</th>\n",
       "      <th>sex</th>\n",
       "      <th>age</th>\n",
       "      <th>sibsp</th>\n",
       "      <th>parch</th>\n",
       "      <th>fare</th>\n",
       "      <th>embarked</th>\n",
       "      <th>class</th>\n",
       "      <th>who</th>\n",
       "      <th>adult_male</th>\n",
       "      <th>deck</th>\n",
       "      <th>embark_town</th>\n",
       "      <th>alive</th>\n",
       "      <th>alone</th>\n",
       "    </tr>\n",
       "  </thead>\n",
       "  <tbody>\n",
       "    <tr>\n",
       "      <th>0</th>\n",
       "      <td>0</td>\n",
       "      <td>3</td>\n",
       "      <td>male</td>\n",
       "      <td>22.0</td>\n",
       "      <td>1</td>\n",
       "      <td>0</td>\n",
       "      <td>7.2500</td>\n",
       "      <td>S</td>\n",
       "      <td>Third</td>\n",
       "      <td>man</td>\n",
       "      <td>True</td>\n",
       "      <td>NaN</td>\n",
       "      <td>Southampton</td>\n",
       "      <td>no</td>\n",
       "      <td>False</td>\n",
       "    </tr>\n",
       "    <tr>\n",
       "      <th>1</th>\n",
       "      <td>1</td>\n",
       "      <td>1</td>\n",
       "      <td>female</td>\n",
       "      <td>38.0</td>\n",
       "      <td>1</td>\n",
       "      <td>0</td>\n",
       "      <td>71.2833</td>\n",
       "      <td>C</td>\n",
       "      <td>First</td>\n",
       "      <td>woman</td>\n",
       "      <td>False</td>\n",
       "      <td>C</td>\n",
       "      <td>Cherbourg</td>\n",
       "      <td>yes</td>\n",
       "      <td>False</td>\n",
       "    </tr>\n",
       "    <tr>\n",
       "      <th>2</th>\n",
       "      <td>1</td>\n",
       "      <td>3</td>\n",
       "      <td>female</td>\n",
       "      <td>26.0</td>\n",
       "      <td>0</td>\n",
       "      <td>0</td>\n",
       "      <td>7.9250</td>\n",
       "      <td>S</td>\n",
       "      <td>Third</td>\n",
       "      <td>woman</td>\n",
       "      <td>False</td>\n",
       "      <td>NaN</td>\n",
       "      <td>Southampton</td>\n",
       "      <td>yes</td>\n",
       "      <td>True</td>\n",
       "    </tr>\n",
       "  </tbody>\n",
       "</table>\n",
       "</div>"
      ],
      "text/plain": [
       "   survived  pclass     sex   age  sibsp  parch     fare embarked  class  \\\n",
       "0         0       3    male  22.0      1      0   7.2500        S  Third   \n",
       "1         1       1  female  38.0      1      0  71.2833        C  First   \n",
       "2         1       3  female  26.0      0      0   7.9250        S  Third   \n",
       "\n",
       "     who  adult_male deck  embark_town alive  alone  \n",
       "0    man        True  NaN  Southampton    no  False  \n",
       "1  woman       False    C    Cherbourg   yes  False  \n",
       "2  woman       False  NaN  Southampton   yes   True  "
      ]
     },
     "execution_count": 3,
     "metadata": {},
     "output_type": "execute_result"
    }
   ],
   "source": [
    "titanic = sns.load_dataset('titanic')\n",
    "titanic.head(3)"
   ]
  },
  {
   "cell_type": "code",
   "execution_count": 4,
   "id": "300ae44c",
   "metadata": {},
   "outputs": [
    {
     "data": {
      "text/plain": [
       "array([ -1,   8,  37,  41,  -8, -10,  10,  42,  48,  41])"
      ]
     },
     "execution_count": 4,
     "metadata": {},
     "output_type": "execute_result"
    }
   ],
   "source": [
    "A = np.random.randint(-10,50,10)\n",
    "A"
   ]
  },
  {
   "cell_type": "code",
   "execution_count": 5,
   "id": "74e6d730",
   "metadata": {},
   "outputs": [
    {
     "data": {
      "text/plain": [
       "array([ 0,  8, 37, 41,  0,  0, 10, 42, 48, 41])"
      ]
     },
     "execution_count": 5,
     "metadata": {},
     "output_type": "execute_result"
    }
   ],
   "source": [
    "np.where(A<0,0,A)"
   ]
  },
  {
   "cell_type": "code",
   "execution_count": 6,
   "id": "7b272358",
   "metadata": {},
   "outputs": [
    {
     "data": {
      "text/plain": [
       "array([ -1,   8,  20,  20,  -8, -10,  10,  20,  20,  20])"
      ]
     },
     "execution_count": 6,
     "metadata": {},
     "output_type": "execute_result"
    }
   ],
   "source": [
    "np.where(A>20,20,A)"
   ]
  },
  {
   "cell_type": "code",
   "execution_count": 7,
   "id": "8335046a",
   "metadata": {},
   "outputs": [],
   "source": [
    "B = np.random.randint(-20,50,size=(7,3))"
   ]
  },
  {
   "cell_type": "code",
   "execution_count": 8,
   "id": "1234e39a",
   "metadata": {},
   "outputs": [
    {
     "data": {
      "text/plain": [
       "array([[-19,  13,  21],\n",
       "       [ 25,  33,  19],\n",
       "       [ 19,  19,  47],\n",
       "       [  0,   5,   6],\n",
       "       [ 14,  37,  14],\n",
       "       [ 19,  49,  -5],\n",
       "       [ 34, -11,  27]])"
      ]
     },
     "execution_count": 8,
     "metadata": {},
     "output_type": "execute_result"
    }
   ],
   "source": [
    "B"
   ]
  },
  {
   "cell_type": "code",
   "execution_count": 9,
   "id": "50c9c103",
   "metadata": {},
   "outputs": [
    {
     "data": {
      "text/html": [
       "<div>\n",
       "<style scoped>\n",
       "    .dataframe tbody tr th:only-of-type {\n",
       "        vertical-align: middle;\n",
       "    }\n",
       "\n",
       "    .dataframe tbody tr th {\n",
       "        vertical-align: top;\n",
       "    }\n",
       "\n",
       "    .dataframe thead th {\n",
       "        text-align: right;\n",
       "    }\n",
       "</style>\n",
       "<table border=\"1\" class=\"dataframe\">\n",
       "  <thead>\n",
       "    <tr style=\"text-align: right;\">\n",
       "      <th></th>\n",
       "      <th>v1</th>\n",
       "      <th>v2</th>\n",
       "      <th>v3</th>\n",
       "    </tr>\n",
       "  </thead>\n",
       "  <tbody>\n",
       "    <tr>\n",
       "      <th>0</th>\n",
       "      <td>-19</td>\n",
       "      <td>13</td>\n",
       "      <td>21</td>\n",
       "    </tr>\n",
       "    <tr>\n",
       "      <th>1</th>\n",
       "      <td>25</td>\n",
       "      <td>33</td>\n",
       "      <td>19</td>\n",
       "    </tr>\n",
       "    <tr>\n",
       "      <th>2</th>\n",
       "      <td>19</td>\n",
       "      <td>19</td>\n",
       "      <td>47</td>\n",
       "    </tr>\n",
       "    <tr>\n",
       "      <th>3</th>\n",
       "      <td>0</td>\n",
       "      <td>5</td>\n",
       "      <td>6</td>\n",
       "    </tr>\n",
       "    <tr>\n",
       "      <th>4</th>\n",
       "      <td>14</td>\n",
       "      <td>37</td>\n",
       "      <td>14</td>\n",
       "    </tr>\n",
       "    <tr>\n",
       "      <th>5</th>\n",
       "      <td>19</td>\n",
       "      <td>49</td>\n",
       "      <td>-5</td>\n",
       "    </tr>\n",
       "    <tr>\n",
       "      <th>6</th>\n",
       "      <td>34</td>\n",
       "      <td>-11</td>\n",
       "      <td>27</td>\n",
       "    </tr>\n",
       "  </tbody>\n",
       "</table>\n",
       "</div>"
      ],
      "text/plain": [
       "   v1  v2  v3\n",
       "0 -19  13  21\n",
       "1  25  33  19\n",
       "2  19  19  47\n",
       "3   0   5   6\n",
       "4  14  37  14\n",
       "5  19  49  -5\n",
       "6  34 -11  27"
      ]
     },
     "execution_count": 9,
     "metadata": {},
     "output_type": "execute_result"
    }
   ],
   "source": [
    "temp  = pd.DataFrame(B,columns=['v1','v2','v3'])\n",
    "temp"
   ]
  },
  {
   "cell_type": "code",
   "execution_count": 10,
   "id": "9bf2dcb4",
   "metadata": {},
   "outputs": [
    {
     "data": {
      "text/plain": [
       "array([21, 19, 47,  6, 14,  0, 27])"
      ]
     },
     "execution_count": 10,
     "metadata": {},
     "output_type": "execute_result"
    }
   ],
   "source": [
    "np.where(temp['v3']<0,0,temp['v3'])"
   ]
  },
  {
   "cell_type": "code",
   "execution_count": 11,
   "id": "739e003c",
   "metadata": {},
   "outputs": [],
   "source": [
    "temp['v4']= np.where(temp['v3']<0,0,temp[\"v3\"])"
   ]
  },
  {
   "cell_type": "code",
   "execution_count": 12,
   "id": "fb2874b9",
   "metadata": {},
   "outputs": [
    {
     "data": {
      "text/html": [
       "<div>\n",
       "<style scoped>\n",
       "    .dataframe tbody tr th:only-of-type {\n",
       "        vertical-align: middle;\n",
       "    }\n",
       "\n",
       "    .dataframe tbody tr th {\n",
       "        vertical-align: top;\n",
       "    }\n",
       "\n",
       "    .dataframe thead th {\n",
       "        text-align: right;\n",
       "    }\n",
       "</style>\n",
       "<table border=\"1\" class=\"dataframe\">\n",
       "  <thead>\n",
       "    <tr style=\"text-align: right;\">\n",
       "      <th></th>\n",
       "      <th>v1</th>\n",
       "      <th>v2</th>\n",
       "      <th>v3</th>\n",
       "      <th>v4</th>\n",
       "    </tr>\n",
       "  </thead>\n",
       "  <tbody>\n",
       "    <tr>\n",
       "      <th>0</th>\n",
       "      <td>-19</td>\n",
       "      <td>13</td>\n",
       "      <td>21</td>\n",
       "      <td>21</td>\n",
       "    </tr>\n",
       "    <tr>\n",
       "      <th>1</th>\n",
       "      <td>25</td>\n",
       "      <td>33</td>\n",
       "      <td>19</td>\n",
       "      <td>19</td>\n",
       "    </tr>\n",
       "    <tr>\n",
       "      <th>2</th>\n",
       "      <td>19</td>\n",
       "      <td>19</td>\n",
       "      <td>47</td>\n",
       "      <td>47</td>\n",
       "    </tr>\n",
       "    <tr>\n",
       "      <th>3</th>\n",
       "      <td>0</td>\n",
       "      <td>5</td>\n",
       "      <td>6</td>\n",
       "      <td>6</td>\n",
       "    </tr>\n",
       "    <tr>\n",
       "      <th>4</th>\n",
       "      <td>14</td>\n",
       "      <td>37</td>\n",
       "      <td>14</td>\n",
       "      <td>14</td>\n",
       "    </tr>\n",
       "    <tr>\n",
       "      <th>5</th>\n",
       "      <td>19</td>\n",
       "      <td>49</td>\n",
       "      <td>-5</td>\n",
       "      <td>0</td>\n",
       "    </tr>\n",
       "    <tr>\n",
       "      <th>6</th>\n",
       "      <td>34</td>\n",
       "      <td>-11</td>\n",
       "      <td>27</td>\n",
       "      <td>27</td>\n",
       "    </tr>\n",
       "  </tbody>\n",
       "</table>\n",
       "</div>"
      ],
      "text/plain": [
       "   v1  v2  v3  v4\n",
       "0 -19  13  21  21\n",
       "1  25  33  19  19\n",
       "2  19  19  47  47\n",
       "3   0   5   6   6\n",
       "4  14  37  14  14\n",
       "5  19  49  -5   0\n",
       "6  34 -11  27  27"
      ]
     },
     "execution_count": 12,
     "metadata": {},
     "output_type": "execute_result"
    }
   ],
   "source": [
    "temp"
   ]
  },
  {
   "cell_type": "code",
   "execution_count": 14,
   "id": "37da3572",
   "metadata": {},
   "outputs": [
    {
     "data": {
      "text/html": [
       "<div>\n",
       "<style scoped>\n",
       "    .dataframe tbody tr th:only-of-type {\n",
       "        vertical-align: middle;\n",
       "    }\n",
       "\n",
       "    .dataframe tbody tr th {\n",
       "        vertical-align: top;\n",
       "    }\n",
       "\n",
       "    .dataframe thead th {\n",
       "        text-align: right;\n",
       "    }\n",
       "</style>\n",
       "<table border=\"1\" class=\"dataframe\">\n",
       "  <thead>\n",
       "    <tr style=\"text-align: right;\">\n",
       "      <th></th>\n",
       "      <th>age</th>\n",
       "      <th>job</th>\n",
       "      <th>marital</th>\n",
       "      <th>education</th>\n",
       "      <th>default</th>\n",
       "      <th>balance</th>\n",
       "      <th>housing</th>\n",
       "      <th>loan</th>\n",
       "      <th>contact</th>\n",
       "      <th>day</th>\n",
       "      <th>month</th>\n",
       "      <th>duration</th>\n",
       "      <th>campaign</th>\n",
       "      <th>pdays</th>\n",
       "      <th>previous</th>\n",
       "      <th>poutcome</th>\n",
       "      <th>y</th>\n",
       "    </tr>\n",
       "  </thead>\n",
       "  <tbody>\n",
       "    <tr>\n",
       "      <th>0</th>\n",
       "      <td>30</td>\n",
       "      <td>unemployed</td>\n",
       "      <td>married</td>\n",
       "      <td>primary</td>\n",
       "      <td>no</td>\n",
       "      <td>1787</td>\n",
       "      <td>no</td>\n",
       "      <td>no</td>\n",
       "      <td>cellular</td>\n",
       "      <td>19</td>\n",
       "      <td>oct</td>\n",
       "      <td>79</td>\n",
       "      <td>1</td>\n",
       "      <td>-1</td>\n",
       "      <td>0</td>\n",
       "      <td>unknown</td>\n",
       "      <td>no</td>\n",
       "    </tr>\n",
       "    <tr>\n",
       "      <th>1</th>\n",
       "      <td>33</td>\n",
       "      <td>services</td>\n",
       "      <td>married</td>\n",
       "      <td>secondary</td>\n",
       "      <td>no</td>\n",
       "      <td>4789</td>\n",
       "      <td>yes</td>\n",
       "      <td>yes</td>\n",
       "      <td>cellular</td>\n",
       "      <td>11</td>\n",
       "      <td>may</td>\n",
       "      <td>220</td>\n",
       "      <td>1</td>\n",
       "      <td>339</td>\n",
       "      <td>4</td>\n",
       "      <td>failure</td>\n",
       "      <td>no</td>\n",
       "    </tr>\n",
       "    <tr>\n",
       "      <th>2</th>\n",
       "      <td>35</td>\n",
       "      <td>management</td>\n",
       "      <td>single</td>\n",
       "      <td>tertiary</td>\n",
       "      <td>no</td>\n",
       "      <td>1350</td>\n",
       "      <td>yes</td>\n",
       "      <td>no</td>\n",
       "      <td>cellular</td>\n",
       "      <td>16</td>\n",
       "      <td>apr</td>\n",
       "      <td>185</td>\n",
       "      <td>1</td>\n",
       "      <td>330</td>\n",
       "      <td>1</td>\n",
       "      <td>failure</td>\n",
       "      <td>no</td>\n",
       "    </tr>\n",
       "  </tbody>\n",
       "</table>\n",
       "</div>"
      ],
      "text/plain": [
       "   age         job  marital  education default  balance housing loan  \\\n",
       "0   30  unemployed  married    primary      no     1787      no   no   \n",
       "1   33    services  married  secondary      no     4789     yes  yes   \n",
       "2   35  management   single   tertiary      no     1350     yes   no   \n",
       "\n",
       "    contact  day month  duration  campaign  pdays  previous poutcome   y  \n",
       "0  cellular   19   oct        79         1     -1         0  unknown  no  \n",
       "1  cellular   11   may       220         1    339         4  failure  no  \n",
       "2  cellular   16   apr       185         1    330         1  failure  no  "
      ]
     },
     "execution_count": 14,
     "metadata": {},
     "output_type": "execute_result"
    }
   ],
   "source": [
    "df = pd.read_csv('bank_data.csv',sep=';')\n",
    "df.head(3)"
   ]
  },
  {
   "cell_type": "code",
   "execution_count": 15,
   "id": "cf46dfab",
   "metadata": {},
   "outputs": [
    {
     "data": {
      "text/plain": [
       "count     4521.00\n",
       "mean      1422.66\n",
       "std       3009.64\n",
       "min      -3313.00\n",
       "25%         69.00\n",
       "50%        444.00\n",
       "75%       1480.00\n",
       "max      71188.00\n",
       "Name: balance, dtype: float64"
      ]
     },
     "execution_count": 15,
     "metadata": {},
     "output_type": "execute_result"
    }
   ],
   "source": [
    "df['balance'].describe().round(2)"
   ]
  },
  {
   "cell_type": "code",
   "execution_count": 16,
   "id": "44b47ca3",
   "metadata": {},
   "outputs": [
    {
     "data": {
      "text/plain": [
       "count     4521.00\n",
       "mean      1422.66\n",
       "std       3009.64\n",
       "min      -3313.00\n",
       "1%        -671.40\n",
       "5%        -162.00\n",
       "10%          0.00\n",
       "50%        444.00\n",
       "90%       3913.00\n",
       "95%       6102.00\n",
       "99%      14194.60\n",
       "max      71188.00\n",
       "Name: balance, dtype: float64"
      ]
     },
     "execution_count": 16,
     "metadata": {},
     "output_type": "execute_result"
    }
   ],
   "source": [
    "df['balance'].describe([0.01,0.05,0.1,0.9,0.95,0.99]).round(2)"
   ]
  },
  {
   "cell_type": "code",
   "execution_count": 17,
   "id": "2538a02a",
   "metadata": {},
   "outputs": [],
   "source": [
    "capping_threshold = 14200\n",
    "flooring_threshold = -700"
   ]
  },
  {
   "cell_type": "code",
   "execution_count": 18,
   "id": "5042a7ba",
   "metadata": {},
   "outputs": [
    {
     "data": {
      "text/plain": [
       "array([1787, 4789, 1350, ...,  295, 1137, 1136], dtype=int64)"
      ]
     },
     "execution_count": 18,
     "metadata": {},
     "output_type": "execute_result"
    }
   ],
   "source": [
    "np.where(df['balance']>14200,14200,df['balance'])"
   ]
  },
  {
   "cell_type": "code",
   "execution_count": 19,
   "id": "21878038",
   "metadata": {},
   "outputs": [],
   "source": [
    "df['bal_new'] = np.where(df['balance']>14200,14200,df['balance'])"
   ]
  },
  {
   "cell_type": "code",
   "execution_count": 20,
   "id": "70327cfd",
   "metadata": {},
   "outputs": [
    {
     "data": {
      "text/plain": [
       "count     4521.00\n",
       "mean      1352.09\n",
       "std       2429.23\n",
       "min      -3313.00\n",
       "1%        -671.40\n",
       "5%        -162.00\n",
       "10%          0.00\n",
       "50%        444.00\n",
       "90%       3913.00\n",
       "95%       6102.00\n",
       "99%      14178.60\n",
       "max      14200.00\n",
       "Name: bal_new, dtype: float64"
      ]
     },
     "execution_count": 20,
     "metadata": {},
     "output_type": "execute_result"
    }
   ],
   "source": [
    "df['bal_new'].describe([0.01,0.05,0.1,0.9,0.95,0.99]).round(2)"
   ]
  },
  {
   "cell_type": "code",
   "execution_count": 21,
   "id": "8aeb6ae9",
   "metadata": {},
   "outputs": [],
   "source": [
    "df['bal_new'] = np.where(df['bal_new']<-700,-700,df['bal_new'])"
   ]
  },
  {
   "cell_type": "code",
   "execution_count": 23,
   "id": "f7a520e7",
   "metadata": {},
   "outputs": [
    {
     "data": {
      "text/plain": [
       "count     4521.00\n",
       "mean      1355.50\n",
       "std       2425.68\n",
       "min       -700.00\n",
       "1%        -671.40\n",
       "5%        -162.00\n",
       "10%          0.00\n",
       "50%        444.00\n",
       "90%       3913.00\n",
       "95%       6102.00\n",
       "99%      14178.60\n",
       "max      14200.00\n",
       "Name: bal_new, dtype: float64"
      ]
     },
     "execution_count": 23,
     "metadata": {},
     "output_type": "execute_result"
    }
   ],
   "source": [
    "df['bal_new'].describe([0.01,0.05,0.1,0.9,0.95,0.99]).round(2)"
   ]
  },
  {
   "cell_type": "code",
   "execution_count": 24,
   "id": "305a2429",
   "metadata": {},
   "outputs": [
    {
     "data": {
      "text/plain": [
       "0       False\n",
       "1       False\n",
       "2       False\n",
       "3       False\n",
       "4       False\n",
       "        ...  \n",
       "4516    False\n",
       "4517     True\n",
       "4518    False\n",
       "4519    False\n",
       "4520    False\n",
       "Name: balance, Length: 4521, dtype: bool"
      ]
     },
     "execution_count": 24,
     "metadata": {},
     "output_type": "execute_result"
    }
   ],
   "source": [
    "df['balance']<-700"
   ]
  },
  {
   "cell_type": "code",
   "execution_count": 28,
   "id": "df7fd28f",
   "metadata": {},
   "outputs": [
    {
     "data": {
      "text/plain": [
       "count     4521.00\n",
       "mean      1355.50\n",
       "std       2425.68\n",
       "min       -700.00\n",
       "1%        -671.40\n",
       "10%          0.00\n",
       "50%        444.00\n",
       "90%       3913.00\n",
       "95%       6102.00\n",
       "99%      14178.60\n",
       "max      14200.00\n",
       "Name: balance_corrected, dtype: float64"
      ]
     },
     "execution_count": 28,
     "metadata": {},
     "output_type": "execute_result"
    }
   ],
   "source": [
    "conditions = [df['balance']<-700,df['balance']>14200]\n",
    "labels = [-700,14200]\n",
    "df['balance_corrected'] = np.select(conditions,labels,df['balance'])\n",
    "df['balance_corrected'].describe([0.01,0.5,0.1,0.9,0.95,0.99]).round(2)"
   ]
  },
  {
   "cell_type": "code",
   "execution_count": null,
   "id": "dd51eca5",
   "metadata": {},
   "outputs": [],
   "source": []
  }
 ],
 "metadata": {
  "kernelspec": {
   "display_name": "Python 3 (ipykernel)",
   "language": "python",
   "name": "python3"
  },
  "language_info": {
   "codemirror_mode": {
    "name": "ipython",
    "version": 3
   },
   "file_extension": ".py",
   "mimetype": "text/x-python",
   "name": "python",
   "nbconvert_exporter": "python",
   "pygments_lexer": "ipython3",
   "version": "3.9.7"
  }
 },
 "nbformat": 4,
 "nbformat_minor": 5
}
