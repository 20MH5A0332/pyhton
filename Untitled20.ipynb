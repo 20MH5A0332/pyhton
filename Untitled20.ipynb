{
 "cells": [
  {
   "cell_type": "code",
   "execution_count": 1,
   "id": "6809b6f2",
   "metadata": {},
   "outputs": [],
   "source": [
    "f = open(\"File.txt\",'r')\n",
    "f.close()"
   ]
  },
  {
   "cell_type": "code",
   "execution_count": 2,
   "id": "569478e4",
   "metadata": {},
   "outputs": [],
   "source": [
    "f = open('File2.txt','a')\n",
    "f.write(\"good afternon mam iam prasanth and iam studyinng btech third year inn aditya college of engineering mechaical\")\n",
    "f.close()"
   ]
  },
  {
   "cell_type": "code",
   "execution_count": 3,
   "id": "c31d4abf",
   "metadata": {},
   "outputs": [
    {
     "data": {
      "text/plain": [
       "['32', '43', '42', '36']"
      ]
     },
     "execution_count": 3,
     "metadata": {},
     "output_type": "execute_result"
    }
   ],
   "source": [
    "ls_num =['32','43','42','36']\n",
    "ls_num"
   ]
  },
  {
   "cell_type": "code",
   "execution_count": 4,
   "id": "0bfec0d4",
   "metadata": {},
   "outputs": [
    {
     "data": {
      "text/plain": [
       "['32', '43', '42', '36']"
      ]
     },
     "execution_count": 4,
     "metadata": {},
     "output_type": "execute_result"
    }
   ],
   "source": [
    "ls_str = [str(i)for i in ls_num]\n",
    "ls_str"
   ]
  },
  {
   "cell_type": "code",
   "execution_count": 5,
   "id": "1b8c3761",
   "metadata": {},
   "outputs": [
    {
     "data": {
      "text/plain": [
       "'32434236'"
      ]
     },
     "execution_count": 5,
     "metadata": {},
     "output_type": "execute_result"
    }
   ],
   "source": [
    "\"\".join(ls_num)"
   ]
  },
  {
   "cell_type": "code",
   "execution_count": 6,
   "id": "162352c9",
   "metadata": {},
   "outputs": [],
   "source": [
    "import random"
   ]
  },
  {
   "cell_type": "code",
   "execution_count": 8,
   "id": "003c0b32",
   "metadata": {},
   "outputs": [
    {
     "data": {
      "text/plain": [
       "'14,15,25,34,38,28,48'"
      ]
     },
     "execution_count": 8,
     "metadata": {},
     "output_type": "execute_result"
    }
   ],
   "source": [
    "ls_num = random.sample(range(10,50),7)\n",
    "ls_str=[str(i)for i in ls_num]\n",
    "\",\".join(ls_str)"
   ]
  },
  {
   "cell_type": "code",
   "execution_count": 9,
   "id": "007f5c73",
   "metadata": {},
   "outputs": [],
   "source": [
    "f =open(\"File2.txt\",'r')\n",
    "f.close()"
   ]
  },
  {
   "cell_type": "code",
   "execution_count": 10,
   "id": "5df6c670",
   "metadata": {},
   "outputs": [
    {
     "data": {
      "text/plain": [
       "<_io.TextIOWrapper name='File2.txt' mode='r' encoding='cp1252'>"
      ]
     },
     "execution_count": 10,
     "metadata": {},
     "output_type": "execute_result"
    }
   ],
   "source": [
    "f"
   ]
  },
  {
   "cell_type": "code",
   "execution_count": 11,
   "id": "86a7f2a0",
   "metadata": {},
   "outputs": [
    {
     "name": "stdout",
     "output_type": "stream",
     "text": [
      "<_io.TextIOWrapper name='File2.txt' mode='r' encoding='cp1252'>\n"
     ]
    }
   ],
   "source": [
    "print(f)"
   ]
  },
  {
   "cell_type": "code",
   "execution_count": 14,
   "id": "a40b2883",
   "metadata": {},
   "outputs": [],
   "source": [
    "f = open(\"File4.txt\",'w')\n",
    "f.write('column_2column_3')\n",
    "for i in range(10):\n",
    "    line = \",\".join([str(i)for i in random.sample(range(10,100),4)])+'\\n'\n",
    "    f.write(line)\n",
    "f.close()"
   ]
  },
  {
   "cell_type": "code",
   "execution_count": 15,
   "id": "2af122b5",
   "metadata": {},
   "outputs": [
    {
     "name": "stdout",
     "output_type": "stream",
     "text": [
      "column_2column_367,50,83,34\n",
      "38,17,83,90\n",
      "60,50,24,37\n",
      "54,61,55,27\n",
      "41,25,60,77\n",
      "62,91,59,13\n",
      "48,19,73,54\n",
      "32,90,93,81\n",
      "64,97,60,23\n",
      "36,10,95,68\n",
      "\n"
     ]
    }
   ],
   "source": [
    "f =open('file4.txt','r')\n",
    "print(f.read())\n",
    "f.close()"
   ]
  },
  {
   "cell_type": "code",
   "execution_count": 17,
   "id": "43cec668",
   "metadata": {},
   "outputs": [
    {
     "name": "stdout",
     "output_type": "stream",
     "text": [
      "good afternon mam iam prasanth and iam studyinng btech third year inn aditya college of engineering mechaical\n"
     ]
    }
   ],
   "source": [
    "fm= open(\"File2.txt\",'r')\n",
    "print(fm.read())\n",
    "fm.close()"
   ]
  },
  {
   "cell_type": "code",
   "execution_count": null,
   "id": "d12511af",
   "metadata": {},
   "outputs": [],
   "source": []
  }
 ],
 "metadata": {
  "kernelspec": {
   "display_name": "Python 3 (ipykernel)",
   "language": "python",
   "name": "python3"
  },
  "language_info": {
   "codemirror_mode": {
    "name": "ipython",
    "version": 3
   },
   "file_extension": ".py",
   "mimetype": "text/x-python",
   "name": "python",
   "nbconvert_exporter": "python",
   "pygments_lexer": "ipython3",
   "version": "3.9.7"
  }
 },
 "nbformat": 4,
 "nbformat_minor": 5
}
