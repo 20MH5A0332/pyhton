{
 "cells": [
  {
   "cell_type": "code",
   "execution_count": 1,
   "id": "005e407b",
   "metadata": {},
   "outputs": [],
   "source": [
    "#Creating a new file using open()"
   ]
  },
  {
   "cell_type": "code",
   "execution_count": 2,
   "id": "30e5eb76",
   "metadata": {},
   "outputs": [
    {
     "ename": "FileNotFoundError",
     "evalue": "[Errno 2] No such file or directory: 'file.txt'",
     "output_type": "error",
     "traceback": [
      "\u001b[1;31m---------------------------------------------------------------------------\u001b[0m",
      "\u001b[1;31mFileNotFoundError\u001b[0m                         Traceback (most recent call last)",
      "\u001b[1;32m~\\AppData\\Local\\Temp/ipykernel_18808/1024533023.py\u001b[0m in \u001b[0;36m<module>\u001b[1;34m\u001b[0m\n\u001b[1;32m----> 1\u001b[1;33m \u001b[0mff\u001b[0m\u001b[1;33m=\u001b[0m \u001b[0mopen\u001b[0m\u001b[1;33m(\u001b[0m\u001b[1;34m'file.txt'\u001b[0m\u001b[1;33m,\u001b[0m\u001b[1;34m'r'\u001b[0m\u001b[1;33m)\u001b[0m\u001b[1;33m\u001b[0m\u001b[1;33m\u001b[0m\u001b[0m\n\u001b[0m\u001b[0;32m      2\u001b[0m \u001b[0mff\u001b[0m\u001b[1;33m.\u001b[0m\u001b[0mclose\u001b[0m\u001b[1;33m(\u001b[0m\u001b[1;33m)\u001b[0m\u001b[1;33m\u001b[0m\u001b[1;33m\u001b[0m\u001b[0m\n",
      "\u001b[1;31mFileNotFoundError\u001b[0m: [Errno 2] No such file or directory: 'file.txt'"
     ]
    }
   ],
   "source": [
    "ff= open('file.txt','r')\n",
    "ff.close()"
   ]
  },
  {
   "cell_type": "code",
   "execution_count": 3,
   "id": "a2b205fa",
   "metadata": {},
   "outputs": [],
   "source": [
    "ff = open('file.txt','w')\n",
    "ff.close()"
   ]
  },
  {
   "cell_type": "code",
   "execution_count": 4,
   "id": "021e86cc",
   "metadata": {},
   "outputs": [],
   "source": [
    "ff=open('file.txt','a')\n",
    "ff.write(\"hello blessie i love you you never love me because u to me not set\")\n",
    "ff.close()"
   ]
  },
  {
   "cell_type": "code",
   "execution_count": 5,
   "id": "abce19ce",
   "metadata": {},
   "outputs": [
    {
     "data": {
      "text/plain": [
       "[20, 44, 55, 8, 25, 53]"
      ]
     },
     "execution_count": 5,
     "metadata": {},
     "output_type": "execute_result"
    }
   ],
   "source": [
    "ls_num = [20,44,55,8,25,53]\n",
    "ls_num"
   ]
  },
  {
   "cell_type": "code",
   "execution_count": 6,
   "id": "6c87d557",
   "metadata": {},
   "outputs": [],
   "source": [
    "ls_str = [str(i) for i in ls_num]\n"
   ]
  },
  {
   "cell_type": "code",
   "execution_count": 7,
   "id": "ebb03fd0",
   "metadata": {},
   "outputs": [
    {
     "data": {
      "text/plain": [
       "['20', '44', '55', '8', '25', '53']"
      ]
     },
     "execution_count": 7,
     "metadata": {},
     "output_type": "execute_result"
    }
   ],
   "source": [
    "ls_str"
   ]
  },
  {
   "cell_type": "code",
   "execution_count": 8,
   "id": "922f64fb",
   "metadata": {},
   "outputs": [
    {
     "data": {
      "text/plain": [
       "'20445582553'"
      ]
     },
     "execution_count": 8,
     "metadata": {},
     "output_type": "execute_result"
    }
   ],
   "source": [
    "''.join(ls_str)"
   ]
  },
  {
   "cell_type": "code",
   "execution_count": 11,
   "id": "bd20f4d1",
   "metadata": {},
   "outputs": [
    {
     "data": {
      "text/plain": [
       "'20,44,55,8,25,53\\n'"
      ]
     },
     "execution_count": 11,
     "metadata": {},
     "output_type": "execute_result"
    }
   ],
   "source": [
    "','.join(ls_str)+'\\n'"
   ]
  },
  {
   "cell_type": "code",
   "execution_count": 12,
   "id": "070f9526",
   "metadata": {},
   "outputs": [
    {
     "data": {
      "text/plain": [
       "'20,31,37,69,19\\n'"
      ]
     },
     "execution_count": 12,
     "metadata": {},
     "output_type": "execute_result"
    }
   ],
   "source": [
    "import random\n",
    "ls_num = random.sample(range(10,100),5)\n",
    "ls_str = [str(i) for i in ls_num]\n",
    "','.join(ls_str)+'\\n'"
   ]
  },
  {
   "cell_type": "code",
   "execution_count": 19,
   "id": "93b06b06",
   "metadata": {},
   "outputs": [
    {
     "data": {
      "text/plain": [
       "'72>89>60>65>47>73>19/n'"
      ]
     },
     "execution_count": 19,
     "metadata": {},
     "output_type": "execute_result"
    }
   ],
   "source": [
    "'>'.join([str(i) for i in random.sample(range(10,100),7)])+'/n'"
   ]
  },
  {
   "cell_type": "code",
   "execution_count": 22,
   "id": "3085caa8",
   "metadata": {},
   "outputs": [],
   "source": [
    "f = open('file7.txt','w')\n",
    "f.write('prasanth,likith,shankar,blessie\\n')\n",
    "for i in range(10):\n",
    "        line= \",\".join([str(i) for i in random.sample(range(10,100),4)])+'\\n'\n",
    "        f.write(line)\n",
    "f.close()"
   ]
  },
  {
   "cell_type": "code",
   "execution_count": 24,
   "id": "0c21f864",
   "metadata": {},
   "outputs": [
    {
     "name": "stdout",
     "output_type": "stream",
     "text": [
      "prasanth,likith,shankar,blessie\n",
      "93,71,26,54\n",
      "24,71,43,10\n",
      "12,82,52,33\n",
      "70,57,56,90\n",
      "81,24,35,50\n",
      "19,96,38,53\n",
      "73,46,40,33\n",
      "14,60,69,88\n",
      "51,60,11,57\n",
      "46,13,70,69\n",
      "\n"
     ]
    }
   ],
   "source": [
    "f = open('file7.txt','r')\n",
    "print(f.read())\n",
    "f.close()"
   ]
  },
  {
   "cell_type": "code",
   "execution_count": null,
   "id": "545231d6",
   "metadata": {},
   "outputs": [],
   "source": []
  },
  {
   "cell_type": "code",
   "execution_count": null,
   "id": "37ce5e6f",
   "metadata": {},
   "outputs": [],
   "source": []
  }
 ],
 "metadata": {
  "kernelspec": {
   "display_name": "Python 3 (ipykernel)",
   "language": "python",
   "name": "python3"
  },
  "language_info": {
   "codemirror_mode": {
    "name": "ipython",
    "version": 3
   },
   "file_extension": ".py",
   "mimetype": "text/x-python",
   "name": "python",
   "nbconvert_exporter": "python",
   "pygments_lexer": "ipython3",
   "version": "3.9.7"
  }
 },
 "nbformat": 4,
 "nbformat_minor": 5
}
