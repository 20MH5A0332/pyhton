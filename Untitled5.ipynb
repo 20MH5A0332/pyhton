{
 "cells": [
  {
   "cell_type": "code",
   "execution_count": null,
   "id": "f79691bb",
   "metadata": {},
   "outputs": [],
   "source": [
    "file_name = open(\"test.txt\",)"
   ]
  }
 ],
 "metadata": {
  "kernelspec": {
   "display_name": "Python 3 (ipykernel)",
   "language": "python",
   "name": "python3"
  },
  "language_info": {
   "codemirror_mode": {
    "name": "ipython",
    "version": 3
   },
   "file_extension": ".py",
   "mimetype": "text/x-python",
   "name": "python",
   "nbconvert_exporter": "python",
   "pygments_lexer": "ipython3",
   "version": "3.9.7"
  }
 },
 "nbformat": 4,
 "nbformat_minor": 5
}
