{
 "cells": [
  {
   "cell_type": "code",
   "execution_count": 2,
   "id": "f23cfc7b",
   "metadata": {},
   "outputs": [
    {
     "name": "stdout",
     "output_type": "stream",
     "text": [
      "enter a number:5\n",
      "120\n"
     ]
    }
   ],
   "source": [
    "n = int(input(\"enter a number:\"))\n",
    "number = 1\n",
    "for i in range(n,0,-1):\n",
    "    number = number*i\n",
    "print(number)"
   ]
  },
  {
   "cell_type": "code",
   "execution_count": 6,
   "id": "b14a88b2",
   "metadata": {},
   "outputs": [
    {
     "name": "stdout",
     "output_type": "stream",
     "text": [
      "5\n",
      "0\n",
      "1\n",
      "1\n",
      "2\n",
      "3\n"
     ]
    }
   ],
   "source": [
    "n = int(input())\n",
    "first = 0\n",
    "second = 1\n",
    "for i in range(n):\n",
    "    print(first)\n",
    "    temp =first\n",
    "    first = second\n",
    "    second= temp+second"
   ]
  },
  {
   "cell_type": "code",
   "execution_count": null,
   "id": "ffd4c5eb",
   "metadata": {},
   "outputs": [],
   "source": []
  }
 ],
 "metadata": {
  "kernelspec": {
   "display_name": "Python 3 (ipykernel)",
   "language": "python",
   "name": "python3"
  },
  "language_info": {
   "codemirror_mode": {
    "name": "ipython",
    "version": 3
   },
   "file_extension": ".py",
   "mimetype": "text/x-python",
   "name": "python",
   "nbconvert_exporter": "python",
   "pygments_lexer": "ipython3",
   "version": "3.9.7"
  }
 },
 "nbformat": 4,
 "nbformat_minor": 5
}
