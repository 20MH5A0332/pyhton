{
 "cells": [
  {
   "cell_type": "code",
   "execution_count": 2,
   "id": "1ee4bb3f",
   "metadata": {},
   "outputs": [],
   "source": [
    "import numpy as np"
   ]
  },
  {
   "cell_type": "code",
   "execution_count": null,
   "id": "52034f52",
   "metadata": {},
   "outputs": [],
   "source": []
  },
  {
   "cell_type": "code",
   "execution_count": 2,
   "id": "b3c6d0ec",
   "metadata": {},
   "outputs": [
    {
     "data": {
      "text/plain": [
       "[0, 1, 2, 3, 4, 5, 6, 7, 8, 9]"
      ]
     },
     "execution_count": 2,
     "metadata": {},
     "output_type": "execute_result"
    }
   ],
   "source": [
    "l  = list(range(10))\n",
    "l"
   ]
  },
  {
   "cell_type": "code",
   "execution_count": 5,
   "id": "51093c0f",
   "metadata": {},
   "outputs": [
    {
     "data": {
      "text/plain": [
       "array([0, 1, 2, 3, 4, 5, 6, 7, 8, 9])"
      ]
     },
     "execution_count": 5,
     "metadata": {},
     "output_type": "execute_result"
    }
   ],
   "source": [
    "a =  np.arange(10)\n",
    "a"
   ]
  },
  {
   "cell_type": "code",
   "execution_count": 7,
   "id": "815acdc3",
   "metadata": {},
   "outputs": [
    {
     "data": {
      "text/plain": [
       "[0, 1, 2, 3, 4, 5, 6, 7, 8, 9]"
      ]
     },
     "execution_count": 7,
     "metadata": {},
     "output_type": "execute_result"
    }
   ],
   "source": [
    "[i for i in a]"
   ]
  },
  {
   "cell_type": "code",
   "execution_count": 8,
   "id": "d5e57f80",
   "metadata": {},
   "outputs": [
    {
     "data": {
      "text/plain": [
       "[3, 4, 5, 6, 7, 8, 9, 10, 11, 12]"
      ]
     },
     "execution_count": 8,
     "metadata": {},
     "output_type": "execute_result"
    }
   ],
   "source": [
    "[i+3 for i in a]"
   ]
  },
  {
   "cell_type": "code",
   "execution_count": 10,
   "id": "8a260dc4",
   "metadata": {},
   "outputs": [
    {
     "data": {
      "text/plain": [
       "array([ 3,  4,  5,  6,  7,  8,  9, 10, 11, 12])"
      ]
     },
     "execution_count": 10,
     "metadata": {},
     "output_type": "execute_result"
    }
   ],
   "source": [
    "a+3"
   ]
  },
  {
   "cell_type": "code",
   "execution_count": 11,
   "id": "a1fe2e71",
   "metadata": {},
   "outputs": [],
   "source": [
    "import random"
   ]
  },
  {
   "cell_type": "code",
   "execution_count": 13,
   "id": "59d64b5b",
   "metadata": {},
   "outputs": [
    {
     "data": {
      "text/plain": [
       "[[92, 92, 48],\n",
       " [11, 83, 94],\n",
       " [46, 35, 61],\n",
       " [41, 18, 78],\n",
       " [23, 75, 45],\n",
       " [85, 51, 100],\n",
       " [49, 97, 45]]"
      ]
     },
     "execution_count": 13,
     "metadata": {},
     "output_type": "execute_result"
    }
   ],
   "source": [
    "l = [[random.randint(10,100) for i in range(3)] for i in range(7)]\n",
    "l"
   ]
  },
  {
   "cell_type": "code",
   "execution_count": 21,
   "id": "7ea5e9ba",
   "metadata": {},
   "outputs": [
    {
     "data": {
      "text/plain": [
       "array([[92, 78, 67],\n",
       "       [42, 99, 58],\n",
       "       [79, 95, 97],\n",
       "       [93, 70, 93],\n",
       "       [77, 60, 72],\n",
       "       [62, 68, 80],\n",
       "       [93, 74, 54]])"
      ]
     },
     "execution_count": 21,
     "metadata": {},
     "output_type": "execute_result"
    }
   ],
   "source": [
    "A = np.random.randint(40,100,size=(7,3))\n",
    "A"
   ]
  },
  {
   "cell_type": "code",
   "execution_count": 22,
   "id": "7842626c",
   "metadata": {},
   "outputs": [
    {
     "data": {
      "text/plain": [
       "array([[82, 68, 57],\n",
       "       [32, 89, 48],\n",
       "       [69, 85, 87],\n",
       "       [83, 60, 83],\n",
       "       [67, 50, 62],\n",
       "       [52, 58, 70],\n",
       "       [83, 64, 44]])"
      ]
     },
     "execution_count": 22,
     "metadata": {},
     "output_type": "execute_result"
    }
   ],
   "source": [
    "A-10"
   ]
  },
  {
   "cell_type": "code",
   "execution_count": 23,
   "id": "75f82cd9",
   "metadata": {},
   "outputs": [
    {
     "data": {
      "text/plain": [
       "array([[8464, 6084, 4489],\n",
       "       [1764, 9801, 3364],\n",
       "       [6241, 9025, 9409],\n",
       "       [8649, 4900, 8649],\n",
       "       [5929, 3600, 5184],\n",
       "       [3844, 4624, 6400],\n",
       "       [8649, 5476, 2916]], dtype=int32)"
      ]
     },
     "execution_count": 23,
     "metadata": {},
     "output_type": "execute_result"
    }
   ],
   "source": [
    "A**2"
   ]
  },
  {
   "cell_type": "code",
   "execution_count": 24,
   "id": "7ea392a9",
   "metadata": {},
   "outputs": [],
   "source": [
    "import random"
   ]
  },
  {
   "cell_type": "code",
   "execution_count": 39,
   "id": "8ff301e7",
   "metadata": {},
   "outputs": [
    {
     "data": {
      "text/plain": [
       "[[95, 47, 47, 65, 62],\n",
       " [60, 98, 50, 41, 49],\n",
       " [52, 40, 46, 75, 67],\n",
       " [42, 81, 63, 80, 89],\n",
       " [68, 89, 44, 84, 68],\n",
       " [63, 99, 58, 56, 42],\n",
       " [93, 79, 81, 82, 85]]"
      ]
     },
     "execution_count": 39,
     "metadata": {},
     "output_type": "execute_result"
    }
   ],
   "source": [
    "l = [[random.randint(40,100)for i in range(5)] for i in range(7)]\n",
    "l"
   ]
  },
  {
   "cell_type": "code",
   "execution_count": 30,
   "id": "0507050f",
   "metadata": {},
   "outputs": [
    {
     "data": {
      "text/plain": [
       "[97, 97, 98, 95, 83, 100, 95]"
      ]
     },
     "execution_count": 30,
     "metadata": {},
     "output_type": "execute_result"
    }
   ],
   "source": [
    "[max(i) for i in l]"
   ]
  },
  {
   "cell_type": "code",
   "execution_count": 31,
   "id": "3fdf7d4e",
   "metadata": {},
   "outputs": [],
   "source": [
    "A = np.random.randint(40,100,size=(7,5))"
   ]
  },
  {
   "cell_type": "code",
   "execution_count": 32,
   "id": "b4a666a7",
   "metadata": {},
   "outputs": [
    {
     "data": {
      "text/plain": [
       "array([[44, 83, 41, 87, 75],\n",
       "       [68, 86, 44, 94, 43],\n",
       "       [46, 58, 61, 63, 71],\n",
       "       [58, 99, 44, 93, 59],\n",
       "       [86, 88, 46, 91, 65],\n",
       "       [68, 81, 43, 94, 49],\n",
       "       [74, 40, 41, 50, 92]])"
      ]
     },
     "execution_count": 32,
     "metadata": {},
     "output_type": "execute_result"
    }
   ],
   "source": [
    "A"
   ]
  },
  {
   "cell_type": "code",
   "execution_count": 40,
   "id": "f48223f3",
   "metadata": {},
   "outputs": [
    {
     "data": {
      "text/plain": [
       "99"
      ]
     },
     "execution_count": 40,
     "metadata": {},
     "output_type": "execute_result"
    }
   ],
   "source": [
    "A.max()"
   ]
  },
  {
   "cell_type": "code",
   "execution_count": 46,
   "id": "2dee5c9b",
   "metadata": {},
   "outputs": [
    {
     "data": {
      "text/plain": [
       "array([[27, 51, 50, 37, 61, 18, 81],\n",
       "       [41, 20, 18, 38, 34, 26, 22],\n",
       "       [57, 44, 89, 90, 34, 45, 19],\n",
       "       [99, 78, 88, 30, 10, 82, 74],\n",
       "       [17, 18, 99, 98, 36, 71, 39],\n",
       "       [15, 76, 90, 47, 87, 90, 76],\n",
       "       [90, 50, 75, 84, 23, 96, 98]])"
      ]
     },
     "execution_count": 46,
     "metadata": {},
     "output_type": "execute_result"
    }
   ],
   "source": [
    "x =np.random.randint(10,100,size=(7,7))\n",
    "x"
   ]
  },
  {
   "cell_type": "code",
   "execution_count": 47,
   "id": "17203c46",
   "metadata": {},
   "outputs": [
    {
     "data": {
      "text/plain": [
       "array([87, 94, 71, 99, 91, 94, 92])"
      ]
     },
     "execution_count": 47,
     "metadata": {},
     "output_type": "execute_result"
    }
   ],
   "source": [
    "A.max(axis=1)"
   ]
  },
  {
   "cell_type": "code",
   "execution_count": 48,
   "id": "45543070",
   "metadata": {},
   "outputs": [
    {
     "data": {
      "text/plain": [
       "100000"
      ]
     },
     "execution_count": 48,
     "metadata": {},
     "output_type": "execute_result"
    }
   ],
   "source": [
    "L = list(range(100000))\n",
    "len(L)"
   ]
  },
  {
   "cell_type": "code",
   "execution_count": 49,
   "id": "dc8b7450",
   "metadata": {},
   "outputs": [
    {
     "data": {
      "text/plain": [
       "[0, 1, 2, 3, 4, 5, 6, 7, 8, 9, 10, 11, 12, 13, 14, 15, 16, 17, 18, 19]"
      ]
     },
     "execution_count": 49,
     "metadata": {},
     "output_type": "execute_result"
    }
   ],
   "source": [
    "L[0:20]"
   ]
  },
  {
   "cell_type": "code",
   "execution_count": 50,
   "id": "d1f9968c",
   "metadata": {},
   "outputs": [
    {
     "data": {
      "text/plain": [
       "100000"
      ]
     },
     "execution_count": 50,
     "metadata": {},
     "output_type": "execute_result"
    }
   ],
   "source": [
    "A = np.arange(100000)\n",
    "A.size"
   ]
  },
  {
   "cell_type": "code",
   "execution_count": 51,
   "id": "43887e8d",
   "metadata": {},
   "outputs": [
    {
     "data": {
      "text/plain": [
       "array([ 0,  1,  2,  3,  4,  5,  6,  7,  8,  9, 10, 11, 12, 13, 14, 15, 16,\n",
       "       17, 18, 19])"
      ]
     },
     "execution_count": 51,
     "metadata": {},
     "output_type": "execute_result"
    }
   ],
   "source": [
    "A[0:20]"
   ]
  },
  {
   "cell_type": "code",
   "execution_count": 52,
   "id": "33a9f5b8",
   "metadata": {},
   "outputs": [],
   "source": [
    "import sys"
   ]
  },
  {
   "cell_type": "code",
   "execution_count": 54,
   "id": "00aec309",
   "metadata": {},
   "outputs": [
    {
     "data": {
      "text/plain": [
       "400104"
      ]
     },
     "execution_count": 54,
     "metadata": {},
     "output_type": "execute_result"
    }
   ],
   "source": [
    "sys.getsizeof(A)"
   ]
  },
  {
   "cell_type": "code",
   "execution_count": 1,
   "id": "87f87796",
   "metadata": {},
   "outputs": [
    {
     "ename": "NameError",
     "evalue": "name 'np' is not defined",
     "output_type": "error",
     "traceback": [
      "\u001b[1;31m---------------------------------------------------------------------------\u001b[0m",
      "\u001b[1;31mNameError\u001b[0m                                 Traceback (most recent call last)",
      "\u001b[1;32m~\\AppData\\Local\\Temp/ipykernel_10772/3681311935.py\u001b[0m in \u001b[0;36m<module>\u001b[1;34m\u001b[0m\n\u001b[1;32m----> 1\u001b[1;33m \u001b[0mA\u001b[0m \u001b[1;33m=\u001b[0m \u001b[0mnp\u001b[0m\u001b[1;33m.\u001b[0m\u001b[0mrandom\u001b[0m\u001b[1;33m.\u001b[0m\u001b[0mrandint\u001b[0m\u001b[1;33m(\u001b[0m\u001b[1;36m3\u001b[0m\u001b[1;33m,\u001b[0m\u001b[1;36m30\u001b[0m\u001b[1;33m,\u001b[0m\u001b[0msize\u001b[0m\u001b[1;33m=\u001b[0m\u001b[1;33m(\u001b[0m\u001b[1;36m2\u001b[0m\u001b[1;33m,\u001b[0m\u001b[1;36m3\u001b[0m\u001b[1;33m,\u001b[0m\u001b[1;36m4\u001b[0m\u001b[1;33m)\u001b[0m\u001b[1;33m)\u001b[0m\u001b[1;33m\u001b[0m\u001b[1;33m\u001b[0m\u001b[0m\n\u001b[0m",
      "\u001b[1;31mNameError\u001b[0m: name 'np' is not defined"
     ]
    }
   ],
   "source": [
    "A = np.random.randint(3,30,size=(2,3,4))"
   ]
  },
  {
   "cell_type": "code",
   "execution_count": 65,
   "id": "2096f073",
   "metadata": {},
   "outputs": [
    {
     "data": {
      "text/plain": [
       "array([[[24, 16, 16, 20],\n",
       "        [18,  7, 20,  9]],\n",
       "\n",
       "       [[ 3, 26, 10, 26],\n",
       "        [ 6,  8, 11, 23]]])"
      ]
     },
     "execution_count": 65,
     "metadata": {},
     "output_type": "execute_result"
    }
   ],
   "source": [
    "A"
   ]
  },
  {
   "cell_type": "code",
   "execution_count": 71,
   "id": "40145ddd",
   "metadata": {},
   "outputs": [
    {
     "data": {
      "text/plain": [
       "409"
      ]
     },
     "execution_count": 71,
     "metadata": {},
     "output_type": "execute_result"
    }
   ],
   "source": [
    "A.sum()"
   ]
  },
  {
   "cell_type": "code",
   "execution_count": 74,
   "id": "78c3c957",
   "metadata": {},
   "outputs": [
    {
     "data": {
      "text/plain": [
       "array([[70, 82, 62],\n",
       "       [79, 59, 57]])"
      ]
     },
     "execution_count": 74,
     "metadata": {},
     "output_type": "execute_result"
    }
   ],
   "source": [
    "A.sum(axis=2)"
   ]
  },
  {
   "cell_type": "code",
   "execution_count": 75,
   "id": "4890cce9",
   "metadata": {},
   "outputs": [
    {
     "data": {
      "text/plain": [
       "array([[[11,  9, 26, 24],\n",
       "        [10, 29, 22, 21],\n",
       "        [19, 20, 13, 10]],\n",
       "\n",
       "       [[19, 11, 20, 29],\n",
       "        [ 7, 18, 25,  9],\n",
       "        [16,  5, 28,  8]]])"
      ]
     },
     "execution_count": 75,
     "metadata": {},
     "output_type": "execute_result"
    }
   ],
   "source": [
    "A"
   ]
  },
  {
   "cell_type": "code",
   "execution_count": 78,
   "id": "0004e927",
   "metadata": {},
   "outputs": [
    {
     "data": {
      "text/plain": [
       "array([[11,  9, 26, 24],\n",
       "       [10, 29, 22, 21],\n",
       "       [19, 20, 13, 10]])"
      ]
     },
     "execution_count": 78,
     "metadata": {},
     "output_type": "execute_result"
    }
   ],
   "source": [
    "A[0]"
   ]
  },
  {
   "cell_type": "code",
   "execution_count": 79,
   "id": "38a4ea5a",
   "metadata": {},
   "outputs": [
    {
     "data": {
      "text/plain": [
       "29"
      ]
     },
     "execution_count": 79,
     "metadata": {},
     "output_type": "execute_result"
    }
   ],
   "source": [
    "A[0,1,1]"
   ]
  },
  {
   "cell_type": "code",
   "execution_count": 82,
   "id": "ccb638b5",
   "metadata": {},
   "outputs": [
    {
     "data": {
      "text/plain": [
       "{'john': [72, 54, 80, 60, 74],\n",
       " 'prasanth': [78, 69, 67, 73, 67],\n",
       " 'emma': [91, 100, 80, 92, 97],\n",
       " 'yehiva': [95, 56, 71, 72, 97],\n",
       " 'joshna': [95, 69, 75, 80, 59],\n",
       " 'likith': [79, 50, 56, 84, 74],\n",
       " 'shankar': [54, 74, 74, 50, 64],\n",
       " 'ajay': [88, 66, 83, 76, 53],\n",
       " 'blessie': [92, 74, 88, 83, 72],\n",
       " 'potti': [98, 60, 65, 74, 68]}"
      ]
     },
     "execution_count": 82,
     "metadata": {},
     "output_type": "execute_result"
    }
   ],
   "source": [
    "import random\n",
    "ls_names = [\"emma\",\"blessie\",\"yehiva\",\"shankar\",\"likith\",\"prasanth\",\"john\",\"elshadai\",\"ajay\",\"joshna\",\"vicky\",\"venu\",\"hema\",\"potti\"]\n",
    "names = random.sample(ls_names,10)\n",
    "scores = [[random.randint(50,100) for i in range(5)] for i in range(10)]\n",
    "marks = dict(zip(names,scores))\n",
    "marks"
   ]
  },
  {
   "cell_type": "code",
   "execution_count": 83,
   "id": "db26d7b4",
   "metadata": {},
   "outputs": [],
   "source": [
    "import pandas as pd "
   ]
  },
  {
   "cell_type": "code",
   "execution_count": 85,
   "id": "eccd13b5",
   "metadata": {},
   "outputs": [
    {
     "data": {
      "text/html": [
       "<div>\n",
       "<style scoped>\n",
       "    .dataframe tbody tr th:only-of-type {\n",
       "        vertical-align: middle;\n",
       "    }\n",
       "\n",
       "    .dataframe tbody tr th {\n",
       "        vertical-align: top;\n",
       "    }\n",
       "\n",
       "    .dataframe thead th {\n",
       "        text-align: right;\n",
       "    }\n",
       "</style>\n",
       "<table border=\"1\" class=\"dataframe\">\n",
       "  <thead>\n",
       "    <tr style=\"text-align: right;\">\n",
       "      <th></th>\n",
       "      <th>john</th>\n",
       "      <th>prasanth</th>\n",
       "      <th>emma</th>\n",
       "      <th>yehiva</th>\n",
       "      <th>joshna</th>\n",
       "      <th>likith</th>\n",
       "      <th>shankar</th>\n",
       "      <th>ajay</th>\n",
       "      <th>blessie</th>\n",
       "      <th>potti</th>\n",
       "    </tr>\n",
       "  </thead>\n",
       "  <tbody>\n",
       "    <tr>\n",
       "      <th>0</th>\n",
       "      <td>72</td>\n",
       "      <td>78</td>\n",
       "      <td>91</td>\n",
       "      <td>95</td>\n",
       "      <td>95</td>\n",
       "      <td>79</td>\n",
       "      <td>54</td>\n",
       "      <td>88</td>\n",
       "      <td>92</td>\n",
       "      <td>98</td>\n",
       "    </tr>\n",
       "    <tr>\n",
       "      <th>1</th>\n",
       "      <td>54</td>\n",
       "      <td>69</td>\n",
       "      <td>100</td>\n",
       "      <td>56</td>\n",
       "      <td>69</td>\n",
       "      <td>50</td>\n",
       "      <td>74</td>\n",
       "      <td>66</td>\n",
       "      <td>74</td>\n",
       "      <td>60</td>\n",
       "    </tr>\n",
       "    <tr>\n",
       "      <th>2</th>\n",
       "      <td>80</td>\n",
       "      <td>67</td>\n",
       "      <td>80</td>\n",
       "      <td>71</td>\n",
       "      <td>75</td>\n",
       "      <td>56</td>\n",
       "      <td>74</td>\n",
       "      <td>83</td>\n",
       "      <td>88</td>\n",
       "      <td>65</td>\n",
       "    </tr>\n",
       "    <tr>\n",
       "      <th>3</th>\n",
       "      <td>60</td>\n",
       "      <td>73</td>\n",
       "      <td>92</td>\n",
       "      <td>72</td>\n",
       "      <td>80</td>\n",
       "      <td>84</td>\n",
       "      <td>50</td>\n",
       "      <td>76</td>\n",
       "      <td>83</td>\n",
       "      <td>74</td>\n",
       "    </tr>\n",
       "    <tr>\n",
       "      <th>4</th>\n",
       "      <td>74</td>\n",
       "      <td>67</td>\n",
       "      <td>97</td>\n",
       "      <td>97</td>\n",
       "      <td>59</td>\n",
       "      <td>74</td>\n",
       "      <td>64</td>\n",
       "      <td>53</td>\n",
       "      <td>72</td>\n",
       "      <td>68</td>\n",
       "    </tr>\n",
       "  </tbody>\n",
       "</table>\n",
       "</div>"
      ],
      "text/plain": [
       "   john  prasanth  emma  yehiva  joshna  likith  shankar  ajay  blessie  potti\n",
       "0    72        78    91      95      95      79       54    88       92     98\n",
       "1    54        69   100      56      69      50       74    66       74     60\n",
       "2    80        67    80      71      75      56       74    83       88     65\n",
       "3    60        73    92      72      80      84       50    76       83     74\n",
       "4    74        67    97      97      59      74       64    53       72     68"
      ]
     },
     "execution_count": 85,
     "metadata": {},
     "output_type": "execute_result"
    }
   ],
   "source": [
    "pd.DataFrame(marks)"
   ]
  },
  {
   "cell_type": "code",
   "execution_count": 86,
   "id": "2f2abcf8",
   "metadata": {},
   "outputs": [],
   "source": [
    "def get_summary(ls):\n",
    "    return min(ls)"
   ]
  },
  {
   "cell_type": "code",
   "execution_count": 87,
   "id": "67a0ef64",
   "metadata": {},
   "outputs": [
    {
     "data": {
      "text/plain": [
       "51"
      ]
     },
     "execution_count": 87,
     "metadata": {},
     "output_type": "execute_result"
    }
   ],
   "source": [
    "get_summary([51,91,78,66,52])"
   ]
  },
  {
   "cell_type": "code",
   "execution_count": 88,
   "id": "4c66c7c8",
   "metadata": {},
   "outputs": [
    {
     "data": {
      "text/plain": [
       "{'john': [72, 54, 80, 60, 74],\n",
       " 'prasanth': [78, 69, 67, 73, 67],\n",
       " 'emma': [91, 100, 80, 92, 97],\n",
       " 'yehiva': [95, 56, 71, 72, 97],\n",
       " 'joshna': [95, 69, 75, 80, 59],\n",
       " 'likith': [79, 50, 56, 84, 74],\n",
       " 'shankar': [54, 74, 74, 50, 64],\n",
       " 'ajay': [88, 66, 83, 76, 53],\n",
       " 'blessie': [92, 74, 88, 83, 72],\n",
       " 'potti': [98, 60, 65, 74, 68]}"
      ]
     },
     "execution_count": 88,
     "metadata": {},
     "output_type": "execute_result"
    }
   ],
   "source": [
    "marks"
   ]
  },
  {
   "cell_type": "code",
   "execution_count": 89,
   "id": "a4877159",
   "metadata": {},
   "outputs": [],
   "source": [
    "def get_summary(ls):\n",
    "    return min(ls),sum(ls)/len(ls),max(ls)"
   ]
  },
  {
   "cell_type": "code",
   "execution_count": 91,
   "id": "c0777f64",
   "metadata": {},
   "outputs": [
    {
     "data": {
      "text/plain": [
       "(10, 20.0, 30)"
      ]
     },
     "execution_count": 91,
     "metadata": {},
     "output_type": "execute_result"
    }
   ],
   "source": [
    "get_summary([10,20,30])"
   ]
  },
  {
   "cell_type": "code",
   "execution_count": 92,
   "id": "b7d26314",
   "metadata": {},
   "outputs": [
    {
     "name": "stdout",
     "output_type": "stream",
     "text": [
      "('john', [72, 54, 80, 60, 74])\n",
      "('prasanth', [78, 69, 67, 73, 67])\n",
      "('emma', [91, 100, 80, 92, 97])\n",
      "('yehiva', [95, 56, 71, 72, 97])\n",
      "('joshna', [95, 69, 75, 80, 59])\n",
      "('likith', [79, 50, 56, 84, 74])\n",
      "('shankar', [54, 74, 74, 50, 64])\n",
      "('ajay', [88, 66, 83, 76, 53])\n",
      "('blessie', [92, 74, 88, 83, 72])\n",
      "('potti', [98, 60, 65, 74, 68])\n"
     ]
    }
   ],
   "source": [
    "for i in marks.items():\n",
    "    print(i)"
   ]
  },
  {
   "cell_type": "code",
   "execution_count": 93,
   "id": "c608b9ba",
   "metadata": {},
   "outputs": [
    {
     "name": "stdout",
     "output_type": "stream",
     "text": [
      "john [72, 54, 80, 60, 74]\n",
      "prasanth [78, 69, 67, 73, 67]\n",
      "emma [91, 100, 80, 92, 97]\n",
      "yehiva [95, 56, 71, 72, 97]\n",
      "joshna [95, 69, 75, 80, 59]\n",
      "likith [79, 50, 56, 84, 74]\n",
      "shankar [54, 74, 74, 50, 64]\n",
      "ajay [88, 66, 83, 76, 53]\n",
      "blessie [92, 74, 88, 83, 72]\n",
      "potti [98, 60, 65, 74, 68]\n"
     ]
    }
   ],
   "source": [
    "for i,j in marks.items():\n",
    "    print(i,j)"
   ]
  },
  {
   "cell_type": "code",
   "execution_count": 94,
   "id": "52d9d6f2",
   "metadata": {},
   "outputs": [
    {
     "name": "stdout",
     "output_type": "stream",
     "text": [
      "john (54, 68.0, 80)\n",
      "prasanth (67, 70.8, 78)\n",
      "emma (80, 92.0, 100)\n",
      "yehiva (56, 78.2, 97)\n",
      "joshna (59, 75.6, 95)\n",
      "likith (50, 68.6, 84)\n",
      "shankar (50, 63.2, 74)\n",
      "ajay (53, 73.2, 88)\n",
      "blessie (72, 81.8, 92)\n",
      "potti (60, 73.0, 98)\n"
     ]
    }
   ],
   "source": [
    "def get_summary(ls):\n",
    "    return min(ls),sum(ls)/len(ls),max(ls)\n",
    "for i,j in marks.items():\n",
    "    print(i,get_summary(j))"
   ]
  },
  {
   "cell_type": "code",
   "execution_count": 95,
   "id": "c0cbb815",
   "metadata": {},
   "outputs": [],
   "source": [
    "def get_summary(ls):\n",
    "    return min(ls),sum(ls)/len(ls),max(ls)"
   ]
  },
  {
   "cell_type": "code",
   "execution_count": 96,
   "id": "ea51436f",
   "metadata": {},
   "outputs": [
    {
     "data": {
      "text/plain": [
       "(10, 20.0, 30)"
      ]
     },
     "execution_count": 96,
     "metadata": {},
     "output_type": "execute_result"
    }
   ],
   "source": [
    "get_summary([10,20,30])"
   ]
  },
  {
   "cell_type": "code",
   "execution_count": 97,
   "id": "ea6eb5c8",
   "metadata": {},
   "outputs": [
    {
     "name": "stdout",
     "output_type": "stream",
     "text": [
      "john 54 68.0 80\n",
      "prasanth 67 70.8 78\n",
      "emma 80 92.0 100\n",
      "yehiva 56 78.2 97\n",
      "joshna 59 75.6 95\n",
      "likith 50 68.6 84\n",
      "shankar 50 63.2 74\n",
      "ajay 53 73.2 88\n",
      "blessie 72 81.8 92\n",
      "potti 60 73.0 98\n"
     ]
    }
   ],
   "source": [
    "for i,j in marks.items():\n",
    "    print(i,min(j),sum(j)/len(j),max(j))"
   ]
  },
  {
   "cell_type": "code",
   "execution_count": 99,
   "id": "b6cd1557",
   "metadata": {},
   "outputs": [
    {
     "ename": "ModuleNotFoundError",
     "evalue": "No module named 'pywhatkit'",
     "output_type": "error",
     "traceback": [
      "\u001b[1;31m---------------------------------------------------------------------------\u001b[0m",
      "\u001b[1;31mModuleNotFoundError\u001b[0m                       Traceback (most recent call last)",
      "\u001b[1;32m~\\AppData\\Local\\Temp/ipykernel_4232/2452755263.py\u001b[0m in \u001b[0;36m<module>\u001b[1;34m\u001b[0m\n\u001b[1;32m----> 1\u001b[1;33m \u001b[1;32mimport\u001b[0m \u001b[0mpywhatkit\u001b[0m\u001b[1;33m\u001b[0m\u001b[1;33m\u001b[0m\u001b[0m\n\u001b[0m",
      "\u001b[1;31mModuleNotFoundError\u001b[0m: No module named 'pywhatkit'"
     ]
    }
   ],
   "source": [
    "import pywhatkit"
   ]
  },
  {
   "cell_type": "code",
   "execution_count": null,
   "id": "97df8702",
   "metadata": {},
   "outputs": [],
   "source": []
  },
  {
   "cell_type": "code",
   "execution_count": null,
   "id": "3086241a",
   "metadata": {},
   "outputs": [],
   "source": []
  },
  {
   "cell_type": "code",
   "execution_count": null,
   "id": "5dfe4d56",
   "metadata": {},
   "outputs": [],
   "source": []
  }
 ],
 "metadata": {
  "kernelspec": {
   "display_name": "Python 3 (ipykernel)",
   "language": "python",
   "name": "python3"
  },
  "language_info": {
   "codemirror_mode": {
    "name": "ipython",
    "version": 3
   },
   "file_extension": ".py",
   "mimetype": "text/x-python",
   "name": "python",
   "nbconvert_exporter": "python",
   "pygments_lexer": "ipython3",
   "version": "3.9.7"
  }
 },
 "nbformat": 4,
 "nbformat_minor": 5
}
