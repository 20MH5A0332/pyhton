{
 "cells": [
  {
   "cell_type": "code",
   "execution_count": 1,
   "id": "0ce2b555",
   "metadata": {},
   "outputs": [],
   "source": [
    "# To use while loop in different applications and different mathoods\n"
   ]
  },
  {
   "cell_type": "code",
   "execution_count": 3,
   "id": "d951a260",
   "metadata": {},
   "outputs": [
    {
     "name": "stdout",
     "output_type": "stream",
     "text": [
      "hello\n",
      "hello\n",
      "hello\n",
      "hello\n"
     ]
    }
   ],
   "source": [
    "str1 = 'hello world'\n",
    "while str1:\n",
    "    print('hello')\n",
    "    str1 = str1[1::2]"
   ]
  },
  {
   "cell_type": "code",
   "execution_count": 4,
   "id": "6d2b57f5",
   "metadata": {},
   "outputs": [],
   "source": [
    "# to finnd given number is palindrome or not if that number is not a palindrome then find the palindrome of a given number by reversing the  given number"
   ]
  },
  {
   "cell_type": "code",
   "execution_count": 7,
   "id": "c3a2893f",
   "metadata": {},
   "outputs": [
    {
     "name": "stdout",
     "output_type": "stream",
     "text": [
      "Enter a number:52\n",
      "77 The Number is palindrome\n"
     ]
    }
   ],
   "source": [
    "num = int(input(\"Enter a number:\"))\n",
    "count= num\n",
    "while True:\n",
    "    str_num = str(num)\n",
    "    rev_num = str_num[::-1]\n",
    "    if str_num == rev_num:\n",
    "        \n",
    "        print(num,\"The Number is palindrome\")\n",
    "        break\n",
    "    num= int(str_num)+int(rev_num)"
   ]
  },
  {
   "cell_type": "code",
   "execution_count": 4,
   "id": "3b6d4f83",
   "metadata": {},
   "outputs": [
    {
     "ename": "IndentationError",
     "evalue": "expected an indented block (Temp/ipykernel_13048/1077547653.py, line 10)",
     "output_type": "error",
     "traceback": [
      "\u001b[1;36m  File \u001b[1;32m\"C:\\Users\\PRASANTH\\AppData\\Local\\Temp/ipykernel_13048/1077547653.py\"\u001b[1;36m, line \u001b[1;32m10\u001b[0m\n\u001b[1;33m    for i in range(5):\u001b[0m\n\u001b[1;37m                      ^\u001b[0m\n\u001b[1;31mIndentationError\u001b[0m\u001b[1;31m:\u001b[0m expected an indented block\n"
     ]
    }
   ],
   "source": [
    "num = int(input(\"Enter a Number:\"))\n",
    "count=num\n",
    "str_num = str(num)\n",
    "rev_str = str_num[::-1]\n",
    "\n",
    "if str_num==rev_num:\n",
    "    print(num,\"The Number is palindrome\")\n",
    "else:\n",
    "    print(num,\"The number is not a palindrome\")\n"
   ]
  },
  {
   "cell_type": "code",
   "execution_count": 5,
   "id": "93476ab7",
   "metadata": {},
   "outputs": [
    {
     "name": "stdout",
     "output_type": "stream",
     "text": [
      "Enter a Number:2\n",
      "2 is not a palindrome number\n",
      "2 is not a palindrome number\n",
      "2 is not a palindrome number\n",
      "2 is not a palindrome number\n",
      "2 is not a palindrome number\n"
     ]
    }
   ],
   "source": [
    "num = int(input(\"Enter a Number:\"))\n",
    "count=num\n",
    "str_num = str(num)\n",
    "rev_str = str_num[::-1]\n",
    "for i in range(5):\n",
    "    if str_num==rev_num:\n",
    "        print(num,\"is a palindrome number\")\n",
    "    else:\n",
    "        print(num,\"is not a palindrome number\")"
   ]
  },
  {
   "cell_type": "code",
   "execution_count": 6,
   "id": "aa50079d",
   "metadata": {},
   "outputs": [
    {
     "name": "stdout",
     "output_type": "stream",
     "text": [
      "Enter a Number:2\n",
      "2 is palindrome number\n",
      "Enter a Number:5\n",
      "5 is palindrome number\n",
      "Enter a Number:84\n",
      "84 is not a palindrome\n",
      "Enter a Number:94\n",
      "94 is not a palindrome\n",
      "Enter a Number:58\n",
      "58 is not a palindrome\n"
     ]
    }
   ],
   "source": [
    "for i in range(5):\n",
    "    num = int(input(\"Enter a Number:\"))\n",
    "    count=num\n",
    "    str_num = str(num)\n",
    "    rev_str = str_num[::-1]\n",
    "    if str_num==rev_str:\n",
    "        print(num,\"is palindrome number\")\n",
    "    else:\n",
    "        print(num,\"is not a palindrome\")\n"
   ]
  },
  {
   "cell_type": "code",
   "execution_count": null,
   "id": "a798dd37",
   "metadata": {},
   "outputs": [],
   "source": []
  }
 ],
 "metadata": {
  "kernelspec": {
   "display_name": "Python 3 (ipykernel)",
   "language": "python",
   "name": "python3"
  },
  "language_info": {
   "codemirror_mode": {
    "name": "ipython",
    "version": 3
   },
   "file_extension": ".py",
   "mimetype": "text/x-python",
   "name": "python",
   "nbconvert_exporter": "python",
   "pygments_lexer": "ipython3",
   "version": "3.9.7"
  }
 },
 "nbformat": 4,
 "nbformat_minor": 5
}
