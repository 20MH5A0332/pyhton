{
 "cells": [
  {
   "cell_type": "code",
   "execution_count": 2,
   "id": "fcb0a40e",
   "metadata": {},
   "outputs": [],
   "source": [
    "import pandas as pd, seaborn as sns, matplotlib.pyplot as plt, os"
   ]
  },
  {
   "cell_type": "code",
   "execution_count": 4,
   "id": "cd5242d3",
   "metadata": {},
   "outputs": [],
   "source": [
    "df1  = pd.read_csv('loans_201907.csv')"
   ]
  },
  {
   "cell_type": "code",
   "execution_count": 5,
   "id": "d281a226",
   "metadata": {},
   "outputs": [
    {
     "data": {
      "text/html": [
       "<div>\n",
       "<style scoped>\n",
       "    .dataframe tbody tr th:only-of-type {\n",
       "        vertical-align: middle;\n",
       "    }\n",
       "\n",
       "    .dataframe tbody tr th {\n",
       "        vertical-align: top;\n",
       "    }\n",
       "\n",
       "    .dataframe thead th {\n",
       "        text-align: right;\n",
       "    }\n",
       "</style>\n",
       "<table border=\"1\" class=\"dataframe\">\n",
       "  <thead>\n",
       "    <tr style=\"text-align: right;\">\n",
       "      <th></th>\n",
       "      <th>cust_id</th>\n",
       "      <th>orig_channel</th>\n",
       "      <th>loan_disb_date</th>\n",
       "      <th>loan_type</th>\n",
       "      <th>loan_amt</th>\n",
       "    </tr>\n",
       "  </thead>\n",
       "  <tbody>\n",
       "    <tr>\n",
       "      <th>0</th>\n",
       "      <td>3050320316</td>\n",
       "      <td>Branch</td>\n",
       "      <td>7/22/2019</td>\n",
       "      <td>Auto 2W</td>\n",
       "      <td>20000</td>\n",
       "    </tr>\n",
       "    <tr>\n",
       "      <th>1</th>\n",
       "      <td>4460786089</td>\n",
       "      <td>Website</td>\n",
       "      <td>7/22/2019</td>\n",
       "      <td>Auto 2W</td>\n",
       "      <td>26300</td>\n",
       "    </tr>\n",
       "    <tr>\n",
       "      <th>2</th>\n",
       "      <td>9916255653</td>\n",
       "      <td>Third Party</td>\n",
       "      <td>7/22/2019</td>\n",
       "      <td>Personal</td>\n",
       "      <td>22100</td>\n",
       "    </tr>\n",
       "    <tr>\n",
       "      <th>3</th>\n",
       "      <td>6823179049</td>\n",
       "      <td>App</td>\n",
       "      <td>7/22/2019</td>\n",
       "      <td>Small Business</td>\n",
       "      <td>378000</td>\n",
       "    </tr>\n",
       "    <tr>\n",
       "      <th>4</th>\n",
       "      <td>1491715065</td>\n",
       "      <td>Branch</td>\n",
       "      <td>7/22/2019</td>\n",
       "      <td>Auto 2W</td>\n",
       "      <td>85100</td>\n",
       "    </tr>\n",
       "  </tbody>\n",
       "</table>\n",
       "</div>"
      ],
      "text/plain": [
       "      cust_id orig_channel loan_disb_date       loan_type  loan_amt\n",
       "0  3050320316       Branch      7/22/2019         Auto 2W     20000\n",
       "1  4460786089      Website      7/22/2019         Auto 2W     26300\n",
       "2  9916255653  Third Party      7/22/2019        Personal     22100\n",
       "3  6823179049          App      7/22/2019  Small Business    378000\n",
       "4  1491715065       Branch      7/22/2019         Auto 2W     85100"
      ]
     },
     "execution_count": 5,
     "metadata": {},
     "output_type": "execute_result"
    }
   ],
   "source": [
    "df1.head()"
   ]
  },
  {
   "cell_type": "code",
   "execution_count": 6,
   "id": "d0b64543",
   "metadata": {},
   "outputs": [],
   "source": [
    "df2 = pd.read_csv('loans_201908.csv')"
   ]
  },
  {
   "cell_type": "code",
   "execution_count": 7,
   "id": "0dd6cf53",
   "metadata": {},
   "outputs": [
    {
     "data": {
      "text/html": [
       "<div>\n",
       "<style scoped>\n",
       "    .dataframe tbody tr th:only-of-type {\n",
       "        vertical-align: middle;\n",
       "    }\n",
       "\n",
       "    .dataframe tbody tr th {\n",
       "        vertical-align: top;\n",
       "    }\n",
       "\n",
       "    .dataframe thead th {\n",
       "        text-align: right;\n",
       "    }\n",
       "</style>\n",
       "<table border=\"1\" class=\"dataframe\">\n",
       "  <thead>\n",
       "    <tr style=\"text-align: right;\">\n",
       "      <th></th>\n",
       "      <th>cust_id</th>\n",
       "      <th>orig_channel</th>\n",
       "      <th>loan_disb_date</th>\n",
       "      <th>loan_type</th>\n",
       "      <th>loan_amt</th>\n",
       "    </tr>\n",
       "  </thead>\n",
       "  <tbody>\n",
       "    <tr>\n",
       "      <th>0</th>\n",
       "      <td>1126066460</td>\n",
       "      <td>Campaign</td>\n",
       "      <td>8/1/2019</td>\n",
       "      <td>Auto 2W</td>\n",
       "      <td>102900</td>\n",
       "    </tr>\n",
       "    <tr>\n",
       "      <th>1</th>\n",
       "      <td>7744492196</td>\n",
       "      <td>App</td>\n",
       "      <td>8/23/2019</td>\n",
       "      <td>Auto 2W</td>\n",
       "      <td>105000</td>\n",
       "    </tr>\n",
       "    <tr>\n",
       "      <th>2</th>\n",
       "      <td>6616155874</td>\n",
       "      <td>Third Party</td>\n",
       "      <td>8/23/2019</td>\n",
       "      <td>Auto 2W</td>\n",
       "      <td>80900</td>\n",
       "    </tr>\n",
       "    <tr>\n",
       "      <th>3</th>\n",
       "      <td>2327711329</td>\n",
       "      <td>Branch</td>\n",
       "      <td>8/23/2019</td>\n",
       "      <td>Personal</td>\n",
       "      <td>105000</td>\n",
       "    </tr>\n",
       "    <tr>\n",
       "      <th>4</th>\n",
       "      <td>8712148531</td>\n",
       "      <td>Third Party</td>\n",
       "      <td>8/23/2019</td>\n",
       "      <td>Small Business</td>\n",
       "      <td>787500</td>\n",
       "    </tr>\n",
       "  </tbody>\n",
       "</table>\n",
       "</div>"
      ],
      "text/plain": [
       "      cust_id orig_channel loan_disb_date       loan_type  loan_amt\n",
       "0  1126066460     Campaign       8/1/2019         Auto 2W    102900\n",
       "1  7744492196          App      8/23/2019         Auto 2W    105000\n",
       "2  6616155874  Third Party      8/23/2019         Auto 2W     80900\n",
       "3  2327711329       Branch      8/23/2019        Personal    105000\n",
       "4  8712148531  Third Party      8/23/2019  Small Business    787500"
      ]
     },
     "execution_count": 7,
     "metadata": {},
     "output_type": "execute_result"
    }
   ],
   "source": [
    "df2.head()"
   ]
  },
  {
   "cell_type": "code",
   "execution_count": 8,
   "id": "40a22aa0",
   "metadata": {},
   "outputs": [
    {
     "data": {
      "text/html": [
       "<div>\n",
       "<style scoped>\n",
       "    .dataframe tbody tr th:only-of-type {\n",
       "        vertical-align: middle;\n",
       "    }\n",
       "\n",
       "    .dataframe tbody tr th {\n",
       "        vertical-align: top;\n",
       "    }\n",
       "\n",
       "    .dataframe thead th {\n",
       "        text-align: right;\n",
       "    }\n",
       "</style>\n",
       "<table border=\"1\" class=\"dataframe\">\n",
       "  <thead>\n",
       "    <tr style=\"text-align: right;\">\n",
       "      <th></th>\n",
       "      <th>cust_id</th>\n",
       "      <th>orig_channel</th>\n",
       "      <th>loan_disb_date</th>\n",
       "      <th>loan_type</th>\n",
       "      <th>loan_amt</th>\n",
       "    </tr>\n",
       "  </thead>\n",
       "  <tbody>\n",
       "    <tr>\n",
       "      <th>0</th>\n",
       "      <td>3050320316</td>\n",
       "      <td>Branch</td>\n",
       "      <td>7/22/2019</td>\n",
       "      <td>Auto 2W</td>\n",
       "      <td>20000</td>\n",
       "    </tr>\n",
       "    <tr>\n",
       "      <th>1</th>\n",
       "      <td>4460786089</td>\n",
       "      <td>Website</td>\n",
       "      <td>7/22/2019</td>\n",
       "      <td>Auto 2W</td>\n",
       "      <td>26300</td>\n",
       "    </tr>\n",
       "    <tr>\n",
       "      <th>2</th>\n",
       "      <td>9916255653</td>\n",
       "      <td>Third Party</td>\n",
       "      <td>7/22/2019</td>\n",
       "      <td>Personal</td>\n",
       "      <td>22100</td>\n",
       "    </tr>\n",
       "    <tr>\n",
       "      <th>3</th>\n",
       "      <td>6823179049</td>\n",
       "      <td>App</td>\n",
       "      <td>7/22/2019</td>\n",
       "      <td>Small Business</td>\n",
       "      <td>378000</td>\n",
       "    </tr>\n",
       "    <tr>\n",
       "      <th>4</th>\n",
       "      <td>1491715065</td>\n",
       "      <td>Branch</td>\n",
       "      <td>7/22/2019</td>\n",
       "      <td>Auto 2W</td>\n",
       "      <td>85100</td>\n",
       "    </tr>\n",
       "    <tr>\n",
       "      <th>...</th>\n",
       "      <td>...</td>\n",
       "      <td>...</td>\n",
       "      <td>...</td>\n",
       "      <td>...</td>\n",
       "      <td>...</td>\n",
       "    </tr>\n",
       "    <tr>\n",
       "      <th>689</th>\n",
       "      <td>7065784641</td>\n",
       "      <td>App</td>\n",
       "      <td>7/19/2019</td>\n",
       "      <td>Auto 2W</td>\n",
       "      <td>63000</td>\n",
       "    </tr>\n",
       "    <tr>\n",
       "      <th>690</th>\n",
       "      <td>9376678468</td>\n",
       "      <td>Branch</td>\n",
       "      <td>7/19/2019</td>\n",
       "      <td>Personal</td>\n",
       "      <td>32600</td>\n",
       "    </tr>\n",
       "    <tr>\n",
       "      <th>691</th>\n",
       "      <td>6424448686</td>\n",
       "      <td>Third Party</td>\n",
       "      <td>7/19/2019</td>\n",
       "      <td>Auto 2W</td>\n",
       "      <td>52500</td>\n",
       "    </tr>\n",
       "    <tr>\n",
       "      <th>692</th>\n",
       "      <td>3415786240</td>\n",
       "      <td>Third Party</td>\n",
       "      <td>7/19/2019</td>\n",
       "      <td>Personal</td>\n",
       "      <td>35700</td>\n",
       "    </tr>\n",
       "    <tr>\n",
       "      <th>693</th>\n",
       "      <td>9186903246</td>\n",
       "      <td>Campaign</td>\n",
       "      <td>7/19/2019</td>\n",
       "      <td>Personal</td>\n",
       "      <td>105000</td>\n",
       "    </tr>\n",
       "  </tbody>\n",
       "</table>\n",
       "<p>694 rows × 5 columns</p>\n",
       "</div>"
      ],
      "text/plain": [
       "        cust_id orig_channel loan_disb_date       loan_type  loan_amt\n",
       "0    3050320316       Branch      7/22/2019         Auto 2W     20000\n",
       "1    4460786089      Website      7/22/2019         Auto 2W     26300\n",
       "2    9916255653  Third Party      7/22/2019        Personal     22100\n",
       "3    6823179049          App      7/22/2019  Small Business    378000\n",
       "4    1491715065       Branch      7/22/2019         Auto 2W     85100\n",
       "..          ...          ...            ...             ...       ...\n",
       "689  7065784641          App      7/19/2019         Auto 2W     63000\n",
       "690  9376678468       Branch      7/19/2019        Personal     32600\n",
       "691  6424448686  Third Party      7/19/2019         Auto 2W     52500\n",
       "692  3415786240  Third Party      7/19/2019        Personal     35700\n",
       "693  9186903246     Campaign      7/19/2019        Personal    105000\n",
       "\n",
       "[694 rows x 5 columns]"
      ]
     },
     "execution_count": 8,
     "metadata": {},
     "output_type": "execute_result"
    }
   ],
   "source": [
    "df1"
   ]
  },
  {
   "cell_type": "code",
   "execution_count": 9,
   "id": "3708d762",
   "metadata": {},
   "outputs": [
    {
     "data": {
      "text/plain": [
       "loan_type\n",
       "Auto 2W           413\n",
       "Auto 4W           128\n",
       "Education          20\n",
       "Personal           89\n",
       "Small Business     44\n",
       "dtype: int64"
      ]
     },
     "execution_count": 9,
     "metadata": {},
     "output_type": "execute_result"
    }
   ],
   "source": [
    "df1.groupby('loan_type').size()"
   ]
  },
  {
   "cell_type": "code",
   "execution_count": 10,
   "id": "3ee6a862",
   "metadata": {},
   "outputs": [
    {
     "data": {
      "text/plain": [
       "loan_type\n",
       "Auto 2W           468\n",
       "Auto 4W           136\n",
       "Education          20\n",
       "Payday              5\n",
       "Personal           89\n",
       "Small Business     45\n",
       "dtype: int64"
      ]
     },
     "execution_count": 10,
     "metadata": {},
     "output_type": "execute_result"
    }
   ],
   "source": [
    "df2.groupby('loan_type').size()"
   ]
  },
  {
   "cell_type": "code",
   "execution_count": 1,
   "id": "740adbfe",
   "metadata": {},
   "outputs": [
    {
     "data": {
      "text/plain": [
       "['loans_201907.',\n",
       " 'loans_201908.',\n",
       " 'loans_201909.',\n",
       " 'loans_201910.',\n",
       " 'loans_201911.',\n",
       " 'loans_201912.']"
      ]
     },
     "execution_count": 1,
     "metadata": {},
     "output_type": "execute_result"
    }
   ],
   "source": [
    "import glob\n",
    "df_names = [i.replace('csv','') for i in glob.glob('loans*') ]\n",
    "df_names"
   ]
  },
  {
   "cell_type": "code",
   "execution_count": null,
   "id": "112df0f3",
   "metadata": {},
   "outputs": [],
   "source": [
    "df_dic = {}\n",
    "for i, j in zip(glob.glob('loans*'),df_names):\n",
    "    df_dic[j] = pd.read_csv(i)"
   ]
  },
  {
   "cell_type": "code",
   "execution_count": null,
   "id": "b58b2076",
   "metadata": {},
   "outputs": [],
   "source": []
  }
 ],
 "metadata": {
  "kernelspec": {
   "display_name": "Python 3 (ipykernel)",
   "language": "python",
   "name": "python3"
  },
  "language_info": {
   "codemirror_mode": {
    "name": "ipython",
    "version": 3
   },
   "file_extension": ".py",
   "mimetype": "text/x-python",
   "name": "python",
   "nbconvert_exporter": "python",
   "pygments_lexer": "ipython3",
   "version": "3.9.7"
  }
 },
 "nbformat": 4,
 "nbformat_minor": 5
}
